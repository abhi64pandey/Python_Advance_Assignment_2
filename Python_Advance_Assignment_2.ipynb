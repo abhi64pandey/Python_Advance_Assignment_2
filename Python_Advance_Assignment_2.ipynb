{
 "cells": [
  {
   "cell_type": "code",
   "execution_count": null,
   "id": "bb3d4899",
   "metadata": {},
   "outputs": [],
   "source": [
    "Q1:What is the relationship between classes and modules?\n",
    "    \n",
    "Solution:\n",
    "\n",
    "The difference between a class and a module in python is that a class is used to define a blueprint for a given object, \n",
    "whereas a module is used to reuse a given piece of code inside another program."
   ]
  },
  {
   "cell_type": "code",
   "execution_count": null,
   "id": "5aef8602",
   "metadata": {},
   "outputs": [],
   "source": [
    "Q2:How do you make instances and classes?\n",
    "    \n",
    "Solution:\n",
    "    \n",
    "Call ClassName() to create a new instance of the class ClassName . \n",
    "To pass parameters to the class instance, the class must have an __init__() method. \n",
    "Pass the parameters in the constructor of the class."
   ]
  },
  {
   "cell_type": "code",
   "execution_count": null,
   "id": "28ded0fe",
   "metadata": {},
   "outputs": [],
   "source": [
    "Q3: Where and how should be class attributes created?\n",
    "\n",
    "Solution:\n",
    "    \n",
    "Class attributes belong to the class itself they will be shared by all the instances.\n",
    "Such attributes are defined in the class body parts usually at the top, for legibility."
   ]
  },
  {
   "cell_type": "code",
   "execution_count": null,
   "id": "28843c7a",
   "metadata": {},
   "outputs": [],
   "source": [
    "Q4:Where and how are instance attributes created?\n",
    "    \n",
    "Solution:\n",
    "    \n",
    "An instance attribute is a Python variable belonging to only one object.\n",
    "It is only accessible in the scope of the object and it is defined inside the constructor function of a class.\n",
    "For example, __init__(self,..)."
   ]
  },
  {
   "cell_type": "code",
   "execution_count": null,
   "id": "7a5a5e26",
   "metadata": {},
   "outputs": [],
   "source": [
    "Q5:What does the term \"self\" in a Python class mean?\n",
    "    \n",
    "Solution:\n",
    "    \n",
    "Self represents the instance of the class. \n",
    "By using the “self” keyword we can access the attributes and methods of the class in python. \n",
    "It binds the attributes with the given arguments"
   ]
  },
  {
   "cell_type": "code",
   "execution_count": null,
   "id": "ba6ccf13",
   "metadata": {},
   "outputs": [],
   "source": [
    "Q6:How does a Python class handle operator overloading?\n",
    "    \n",
    "Solution:\n",
    "    \n",
    "The operator overloading in Python means provide extended meaning beyond their predefined operational meaning. \n",
    "Such as, we use the \"+\" operator for adding two integers as well as joining two strings or merging two lists.\n",
    "We can achieve this as the \"+\" operator is overloaded by the \"int\" class and \"str\" class."
   ]
  },
  {
   "cell_type": "code",
   "execution_count": null,
   "id": "fe028fed",
   "metadata": {},
   "outputs": [],
   "source": [
    "Q7:When do you consider allowing operator overloading of your classes?\n",
    "    \n",
    "Solution:\n",
    "    \n",
    "Consider that we have two objects which are a physical representation of a class (user-defined data type) \n",
    "and we have to add two objects with binary '+' operator it throws an error, \n",
    "because compiler don't know how to add two objects. \n",
    "So we define a method for an operator and that process is called operator overloading"
   ]
  },
  {
   "cell_type": "code",
   "execution_count": null,
   "id": "23f329e0",
   "metadata": {},
   "outputs": [],
   "source": [
    "Q8:What is the most popular form of operator overloading?\n",
    "\n",
    "Solution:\n",
    "    \n",
    "A very popular and convenient example is the Addition (+) operator."
   ]
  },
  {
   "cell_type": "code",
   "execution_count": null,
   "id": "64e4df86",
   "metadata": {},
   "outputs": [],
   "source": [
    "Q9: What are the two most important concepts to grasp in order to comprehend Python OOP code?\n",
    "    \n",
    "Solution:\n",
    "    \n",
    "The two most important concepts to grasp in order to comprehend Python OOP code are inheritance and polymorphism."
   ]
  }
 ],
 "metadata": {
  "kernelspec": {
   "display_name": "Python 3 (ipykernel)",
   "language": "python",
   "name": "python3"
  },
  "language_info": {
   "codemirror_mode": {
    "name": "ipython",
    "version": 3
   },
   "file_extension": ".py",
   "mimetype": "text/x-python",
   "name": "python",
   "nbconvert_exporter": "python",
   "pygments_lexer": "ipython3",
   "version": "3.9.7"
  }
 },
 "nbformat": 4,
 "nbformat_minor": 5
}
